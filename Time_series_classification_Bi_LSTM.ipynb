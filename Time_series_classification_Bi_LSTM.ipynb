{
  "nbformat": 4,
  "nbformat_minor": 0,
  "metadata": {
    "colab": {
      "name": "Time_series_classification_Bi-LSTM.ipynb",
      "provenance": [],
      "collapsed_sections": [],
      "authorship_tag": "ABX9TyNSyO950SFKute1DlJnH7/d",
      "include_colab_link": true
    },
    "kernelspec": {
      "name": "python3",
      "display_name": "Python 3"
    },
    "language_info": {
      "name": "python"
    }
  },
  "cells": [
    {
      "cell_type": "markdown",
      "metadata": {
        "id": "view-in-github",
        "colab_type": "text"
      },
      "source": [
        "<a href=\"https://colab.research.google.com/github/HumaHamid92/humahh/blob/main/Time_series_classification_Bi_LSTM.ipynb\" target=\"_parent\"><img src=\"https://colab.research.google.com/assets/colab-badge.svg\" alt=\"Open In Colab\"/></a>"
      ]
    },
    {
      "cell_type": "code",
      "execution_count": null,
      "metadata": {
        "id": "wOq05Plr_fz9"
      },
      "outputs": [],
      "source": [
        "from google.colab import drive\n",
        "drive.mount('/content/drive')"
      ]
    },
    {
      "cell_type": "code",
      "source": [
        "import numpy as np\n",
        "import pandas as pd\n",
        "import matplotlib.pyplot as plt\n",
        "import tensorflow as tf\n",
        "from tensorflow import keras\n",
        "from keras import layers\n",
        "from keras.models import Model, load_model, save_model\n",
        "from keras.layers import Input\n",
        "from keras.layers import Dense\n",
        "from keras.layers import Flatten\n",
        "from keras.layers import Dropout\n",
        "from keras.layers import LSTM,  Bidirectional, Activation\n",
        "from keras.layers.merge import concatenate\n",
        "from sklearn.metrics import precision_score\n",
        "from sklearn.metrics import recall_score\n",
        "from sklearn.metrics import accuracy_score"
      ],
      "metadata": {
        "id": "qTytKwX9_j3C"
      },
      "execution_count": null,
      "outputs": []
    },
    {
      "cell_type": "code",
      "source": [
        "df = pd.read_csv('/content/drive/MyDrive/dataset/subject_1.csv')"
      ],
      "metadata": {
        "id": "3lkiS-vU_j5v"
      },
      "execution_count": null,
      "outputs": []
    },
    {
      "cell_type": "code",
      "source": [
        "df_d = df.to_numpy()\n",
        "df.head()"
      ],
      "metadata": {
        "id": "C1KZ9DFBAD_u"
      },
      "execution_count": null,
      "outputs": []
    },
    {
      "cell_type": "code",
      "source": [
        "def create_dataset(df_d, look_back=1):\n",
        "\tdataX, dataY = [], []\n",
        "\tfor i in range(len(df_d)-look_back):\n",
        "\t\ta = df_d[i:(i+look_back), 0:12]\n",
        "\t\tdataX.append(a)\n",
        "\t\tdataY.append(df_d[i + look_back, 12])\n",
        "\treturn np.array(dataX), np.array(dataY)"
      ],
      "metadata": {
        "id": "z-7J2Aun_j9a"
      },
      "execution_count": null,
      "outputs": []
    },
    {
      "cell_type": "code",
      "source": [
        "# split into train and test sets\n",
        "train_size = int(len(df_d) * 0.8)\n",
        "test_size = len(df_d) - train_size\n",
        "train, test = df_d[0:train_size,:], df_d[train_size:len(df_d),:]"
      ],
      "metadata": {
        "id": "H-31r04Z_kAF"
      },
      "execution_count": null,
      "outputs": []
    },
    {
      "cell_type": "code",
      "source": [
        "trainX.shape, trainy.shape, testX.shape, testy.shape"
      ],
      "metadata": {
        "id": "gtVO4w0m_kCv"
      },
      "execution_count": null,
      "outputs": []
    },
    {
      "cell_type": "code",
      "source": [
        "num_classes = len(np.unique(trainy))\n",
        "trainy = tf.keras.utils.to_categorical(trainy)\n",
        "testy = tf.keras.utils.to_categorical(testy)"
      ],
      "metadata": {
        "id": "0AZ2Wgf5_kFY"
      },
      "execution_count": null,
      "outputs": []
    },
    {
      "cell_type": "code",
      "source": [
        "\n",
        "model = Sequential()\n",
        "model.add(Bidirectional(LSTM(64,  input_shape=(trainX.shape[1], trainX.shape[2]), activation='relu', return_sequences=True)))\n",
        "model.add(Bidirectional(LSTM(64, activation='relu', return_sequences=False)))\n",
        "model.add(Dense(64, activation='relu'))\n",
        "model.add(Dense(2, activation='softmax'))"
      ],
      "metadata": {
        "id": "u7E0sGC2_kIL"
      },
      "execution_count": null,
      "outputs": []
    },
    {
      "cell_type": "code",
      "source": [
        "print(model.summary())"
      ],
      "metadata": {
        "id": "Yyn4W9Jb_kKT"
      },
      "execution_count": null,
      "outputs": []
    },
    {
      "cell_type": "code",
      "source": [
        "epochs = 500 \n",
        "batch_size = 150\n",
        "\n",
        "callbacks = [\n",
        "    keras.callbacks.ModelCheckpoint(\n",
        "        \"best_model.h5\", save_best_only=True, verbose=1, monitor=\"val_loss\"\n",
        "    ),\n",
        "    keras.callbacks.ReduceLROnPlateau(\n",
        "        monitor=\"val_loss\", factor=0.5, patience=50, min_lr=0.001\n",
        "    ),\n",
        "    keras.callbacks.EarlyStopping(monitor=\"val_loss\", patience=80, verbose=1, baseline=0.4),\n",
        "]\n",
        "model.compile(\n",
        "    optimizer=\"adam\",\n",
        "    loss=\"categorical_crossentropy\",\n",
        "    metrics=[\"accuracy\", tf.keras.metrics.Precision(name = 'precision'), tf.keras.metrics.Recall(name = 'recall')\n",
        "    ],\n",
        ")\n",
        "history = model.fit(\n",
        "    trainX,\n",
        "    trainy,\n",
        "    batch_size=batch_size,\n",
        "    epochs=epochs,\n",
        "    callbacks=callbacks,\n",
        "    validation_split=0.2, \n",
        "    verbose=1,\n",
        ")"
      ],
      "metadata": {
        "id": "w4V6BiLY_kMf"
      },
      "execution_count": null,
      "outputs": []
    },
    {
      "cell_type": "code",
      "source": [
        "rounded_labels=np.argmax(testy, axis=1)\n",
        "rounded_labels[1]"
      ],
      "metadata": {
        "id": "oJfbnTZe_kPc"
      },
      "execution_count": null,
      "outputs": []
    },
    {
      "cell_type": "code",
      "source": [
        "y_pred = np.argmax(model.predict(testX),axis=1)\n",
        "accuracy = accuracy_score(rounded_labels, y_pred)\n",
        "precision = precision_score(rounded_labels, y_pred, zero_division=1)\n",
        "recall = recall_score(rounded_labels, y_pred, zero_division=1)\n",
        "print('Accuracy: ', accuracy*100)\n",
        "print('Precision: ', precision*100)\n",
        "print('Recall: ', recall*100)"
      ],
      "metadata": {
        "id": "hPdg1yIw_kSF"
      },
      "execution_count": null,
      "outputs": []
    },
    {
      "cell_type": "code",
      "source": [
        "metric = \"accuracy\"\n",
        "plt.figure()\n",
        "plt.plot(history.history[metric])\n",
        "plt.plot(history.history[\"val_\" + metric])\n",
        "plt.title(\"model \" + metric)\n",
        "plt.ylabel(metric, fontsize=\"large\")\n",
        "plt.xlabel(\"epoch\", fontsize=\"large\")\n",
        "plt.legend([\"train\", \"val\"], loc=\"best\")\n",
        "plt.show()\n",
        "plt.close()\n",
        "print(\"Train accuracy\", history.history[metric][9])"
      ],
      "metadata": {
        "id": "d48sacaF_kUl"
      },
      "execution_count": null,
      "outputs": []
    },
    {
      "cell_type": "code",
      "source": [
        "plt.plot(history.history['loss'])\n",
        "plt.plot(history.history['val_loss'])\n",
        "plt.title('model loss')\n",
        "plt.ylabel('loss')\n",
        "plt.xlabel('epoch')\n",
        "plt.legend(['train', 'val'], loc='upper left')\n",
        "plt.show()"
      ],
      "metadata": {
        "id": "4jfVVxBl_ka3"
      },
      "execution_count": null,
      "outputs": []
    }
  ]
}