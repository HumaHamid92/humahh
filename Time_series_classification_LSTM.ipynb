{
  "nbformat": 4,
  "nbformat_minor": 0,
  "metadata": {
    "colab": {
      "name": "Time series classification LSTM.ipynb",
      "provenance": [],
      "collapsed_sections": [],
      "authorship_tag": "ABX9TyOQzxqXuAMTEcRESxtLsJMI",
      "include_colab_link": true
    },
    "kernelspec": {
      "name": "python3",
      "display_name": "Python 3"
    },
    "language_info": {
      "name": "python"
    }
  },
  "cells": [
    {
      "cell_type": "markdown",
      "metadata": {
        "id": "view-in-github",
        "colab_type": "text"
      },
      "source": [
        "<a href=\"https://colab.research.google.com/github/HumaHamid92/humahh/blob/main/Time_series_classification_LSTM.ipynb\" target=\"_parent\"><img src=\"https://colab.research.google.com/assets/colab-badge.svg\" alt=\"Open In Colab\"/></a>"
      ]
    },
    {
      "cell_type": "code",
      "execution_count": null,
      "metadata": {
        "id": "Q0SEJ85m74Wc"
      },
      "outputs": [],
      "source": [
        "from google.colab import drive\n",
        "drive.mount('/content/drive')"
      ]
    },
    {
      "cell_type": "code",
      "source": [
        "import numpy as np\n",
        "import pandas as pd\n",
        "import matplotlib.pyplot as plt\n",
        "import tensorflow as tf\n",
        "from tensorflow import keras\n",
        "from keras import layers\n",
        "from keras.models import Model, load_model, save_model\n",
        "from keras.layers import Input\n",
        "from keras.layers import Dense\n",
        "from keras.layers import Flatten\n",
        "from keras.layers import Dropout\n",
        "from keras.layers import LSTM, Activation\n",
        "from keras.layers.merge import concatenate\n",
        "from sklearn.metrics import precision_score\n",
        "from sklearn.metrics import recall_score\n",
        "from sklearn.metrics import accuracy_score"
      ],
      "metadata": {
        "id": "RpWOiwhj8R9d"
      },
      "execution_count": null,
      "outputs": []
    },
    {
      "cell_type": "code",
      "source": [
        "df = pd.read_csv('/content/drive/MyDrive/dataset/subject_1.csv')"
      ],
      "metadata": {
        "id": "oT6wOJJW8VFO"
      },
      "execution_count": null,
      "outputs": []
    },
    {
      "cell_type": "code",
      "source": [
        "df_d = df.to_numpy()\n",
        "df.head()"
      ],
      "metadata": {
        "id": "w7x6wfsc8VJv"
      },
      "execution_count": null,
      "outputs": []
    },
    {
      "cell_type": "code",
      "source": [
        "def create_dataset(df_d, look_back=1):\n",
        "\tdataX, dataY = [], []\n",
        "\tfor i in range(len(df_d)-look_back):\n",
        "\t\ta = df_d[i:(i+look_back), 0:12]\n",
        "\t\tdataX.append(a)\n",
        "\t\tdataY.append(df_d[i + look_back, 12])\n",
        "\treturn np.array(dataX), np.array(dataY)"
      ],
      "metadata": {
        "id": "dnqOuTOs8VOl"
      },
      "execution_count": null,
      "outputs": []
    },
    {
      "cell_type": "code",
      "source": [
        "# split into train and test sets\n",
        "train_size = int(len(df_d) * 0.8)\n",
        "test_size = len(df_d) - train_size\n",
        "train, test = df_d[0:train_size,:], df_d[train_size:len(df_d),:]"
      ],
      "metadata": {
        "id": "yxNEnCih8VUX"
      },
      "execution_count": null,
      "outputs": []
    },
    {
      "cell_type": "code",
      "source": [
        "trainX.shape, trainy.shape, testX.shape, testy.shape"
      ],
      "metadata": {
        "id": "srRmJZCi8VX6"
      },
      "execution_count": null,
      "outputs": []
    },
    {
      "cell_type": "code",
      "source": [
        "num_classes = len(np.unique(trainy))\n",
        "trainy = tf.keras.utils.to_categorical(trainy)\n",
        "testy = tf.keras.utils.to_categorical(testy)"
      ],
      "metadata": {
        "id": "0GV6T1xn8VaT"
      },
      "execution_count": null,
      "outputs": []
    },
    {
      "cell_type": "code",
      "source": [
        "def make_model(input_shape):\n",
        "  \n",
        "    input_layer = keras.layers.Input(input_shape)\n",
        "\n",
        "    lstm1 = keras.layers.LSTM(64, activation='relu', return_sequences=True)(input_layer)\n",
        "    lstm2 = keras.layers.LSTM(64, activation='relu', return_sequences=True)(lstm1)\n",
        "    lstm3 = keras.layers.LSTM(64, activation='relu', return_sequences=True)(lstm2)\n",
        "    lstm4 = keras.layers.LSTM(64, activation='relu', return_sequences=True)(lstm3)\n",
        "    drop = keras.layers.Dropout(0.5)(lstm4)\n",
        "    flat = keras.layers.Flatten()(drop)\n",
        "    \n",
        "    # interpretation\n",
        "    dense1 = keras.layers.Dense(64, activation='relu')(flat2)\n",
        "    outputs = keras.layers.Dense(num_classes, activation='softmax')(dense1)\n",
        "\n",
        "    return keras.models.Model(inputs=input_layer, outputs=outputs)"
      ],
      "metadata": {
        "id": "51dTSoV38Vdc"
      },
      "execution_count": null,
      "outputs": []
    },
    {
      "cell_type": "code",
      "source": [
        "model = make_model(input_shape=trainX.shape[1:])\n",
        "print(model.summary())"
      ],
      "metadata": {
        "id": "TUdKPH-18Vgy"
      },
      "execution_count": null,
      "outputs": []
    },
    {
      "cell_type": "code",
      "source": [
        "epochs = 500 \n",
        "batch_size = 150\n",
        "\n",
        "callbacks = [\n",
        "    keras.callbacks.ModelCheckpoint(\n",
        "        \"best_model.h5\", save_best_only=True, verbose=1, monitor=\"val_loss\"\n",
        "    ),\n",
        "    keras.callbacks.ReduceLROnPlateau(\n",
        "        monitor=\"val_loss\", factor=0.5, patience=50, min_lr=0.001\n",
        "    ),\n",
        "    keras.callbacks.EarlyStopping(monitor=\"val_loss\", patience=80, verbose=1, baseline=0.4),\n",
        "]\n",
        "model.compile(\n",
        "    optimizer=\"adam\",\n",
        "    loss=\"categorical_crossentropy\",\n",
        "    metrics=[\"accuracy\", tf.keras.metrics.Precision(name = 'precision'), tf.keras.metrics.Recall(name = 'recall')\n",
        "    ],\n",
        ")\n",
        "history = model.fit(\n",
        "    trainX,\n",
        "    trainy,\n",
        "    batch_size=batch_size,\n",
        "    epochs=epochs,\n",
        "    callbacks=callbacks,\n",
        "    validation_split=0.2, \n",
        "    verbose=1,\n",
        ")"
      ],
      "metadata": {
        "id": "iHlSwfo08VjM"
      },
      "execution_count": null,
      "outputs": []
    },
    {
      "cell_type": "code",
      "source": [
        "rounded_labels=np.argmax(testy, axis=1)\n",
        "rounded_labels[1]"
      ],
      "metadata": {
        "id": "6aMh1S4n-MyO"
      },
      "execution_count": null,
      "outputs": []
    },
    {
      "cell_type": "code",
      "source": [
        "y_pred = np.argmax(model.predict(testX),axis=1)\n",
        "accuracy = accuracy_score(rounded_labels, y_pred)\n",
        "precision = precision_score(rounded_labels, y_pred, zero_division=1)\n",
        "recall = recall_score(rounded_labels, y_pred, zero_division=1)\n",
        "print('Accuracy: ', accuracy*100)\n",
        "print('Precision: ', precision*100)\n",
        "print('Recall: ', recall*100)"
      ],
      "metadata": {
        "id": "O81p0B2p-M2t"
      },
      "execution_count": null,
      "outputs": []
    },
    {
      "cell_type": "code",
      "source": [
        "metric = \"accuracy\"\n",
        "plt.figure()\n",
        "plt.plot(history.history[metric])\n",
        "plt.plot(history.history[\"val_\" + metric])\n",
        "plt.title(\"model \" + metric)\n",
        "plt.ylabel(metric, fontsize=\"large\")\n",
        "plt.xlabel(\"epoch\", fontsize=\"large\")\n",
        "plt.legend([\"train\", \"val\"], loc=\"best\")\n",
        "plt.show()\n",
        "plt.close()\n",
        "print(\"Train accuracy\", history.history[metric][9])"
      ],
      "metadata": {
        "id": "jwGSFekK-M4b"
      },
      "execution_count": null,
      "outputs": []
    },
    {
      "cell_type": "code",
      "source": [
        "plt.plot(history.history['loss'])\n",
        "plt.plot(history.history['val_loss'])\n",
        "plt.title('model loss')\n",
        "plt.ylabel('loss')\n",
        "plt.xlabel('epoch')\n",
        "plt.legend(['train', 'val'], loc='upper left')\n",
        "plt.show()"
      ],
      "metadata": {
        "id": "mBpRyUUx-M6V"
      },
      "execution_count": null,
      "outputs": []
    }
  ]
}